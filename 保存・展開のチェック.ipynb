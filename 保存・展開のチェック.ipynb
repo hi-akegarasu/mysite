{
  "nbformat": 4,
  "nbformat_minor": 0,
  "metadata": {
    "colab": {
      "name": "保存・展開のチェック.ipynb",
      "provenance": [],
      "collapsed_sections": [],
      "authorship_tag": "ABX9TyOKLG5Wb1kD5WHxZKSZXv+u",
      "include_colab_link": true
    },
    "kernelspec": {
      "name": "python3",
      "display_name": "Python 3"
    },
    "language_info": {
      "name": "python"
    }
  },
  "cells": [
    {
      "cell_type": "markdown",
      "metadata": {
        "id": "view-in-github",
        "colab_type": "text"
      },
      "source": [
        "<a href=\"https://colab.research.google.com/github/hi-akegarasu/mysite/blob/master/%E4%BF%9D%E5%AD%98%E3%83%BB%E5%B1%95%E9%96%8B%E3%81%AE%E3%83%81%E3%82%A7%E3%83%83%E3%82%AF.ipynb\" target=\"_parent\"><img src=\"https://colab.research.google.com/assets/colab-badge.svg\" alt=\"Open In Colab\"/></a>"
      ]
    },
    {
      "cell_type": "code",
      "metadata": {
        "colab": {
          "base_uri": "https://localhost:8080/",
          "height": 265
        },
        "id": "Bjn6KBZecurq",
        "outputId": "0e85dd3b-e74e-4797-97fb-0e83e32cbca6"
      },
      "source": [
        "import numpy as np\n",
        "from matplotlib import pyplot as plt\n",
        "import scipy.optimize as optimize\n",
        "%matplotlib inline \n",
        "from sklearn.metrics import r2_score\n",
        "from sklearn.metrics import mean_squared_error\n",
        "from sklearn.metrics import mean_absolute_error\n",
        "\n",
        "def base_func(x,a,b,c):\n",
        "    y = c + a*(x - b)**2\n",
        "    return y\n",
        "\n",
        "\n",
        "x = np.arange(-30, 30, 1)\n",
        "para = [2.0,5.0,10.0]\n",
        "np.random.seed(seed=10)\n",
        "y = base_func(x,para[0],para[1],para[2])+np.random.normal(0, 60, len(x))\n",
        "\n",
        "plt.scatter(x , y)\n",
        "plt.show()\n",
        "\n"
      ],
      "execution_count": null,
      "outputs": [
        {
          "output_type": "display_data",
          "data": {
            "image/png": "[encoded data removed]",
            "text/plain": [
              "<Figure size 432x288 with 1 Axes>"
            ]
          },
          "metadata": {
            "needs_background": "light"
          }
        }
      ]
    }
  ]
}